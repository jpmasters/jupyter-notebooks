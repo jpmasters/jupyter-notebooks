{
 "cells": [
  {
   "cell_type": "markdown",
   "id": "636a60d2-636e-4397-997e-0e43938bb463",
   "metadata": {},
   "source": [
    "# Localization 1\n",
    "\n",
    "This is my implementation of the Localization part 1 lectures from Lazy Programmer's Deep Learning and Advanced Computer Vision course. The objective is to start by creating black and white images where there is a black background and a single randomly placed, random sized white rectangle. We then train a network to output the location of the rectangle.\n",
    "\n",
    "Using a topless, pre-trained VGG16 network as a feature extractor we build a small dense layer with four outputs. The outputs represent the column, row, width and height of the white rectangle.\n",
    "\n",
    "As directed by the tutorial, I apply the sigmoid activation function to all four of the outputs.\n",
    "\n",
    "Code for this article can be found at [https://github.com/jpmasters/jupyter-notebooks/blob/main/localization-1.ipynb](https://github.com/jpmasters/jupyter-notebooks/blob/main/localization-1.ipynb)"
   ]
  },
  {
   "cell_type": "code",
   "execution_count": 46,
   "id": "95631849-b28d-4154-a69f-ffbd73204b4b",
   "metadata": {},
   "outputs": [],
   "source": [
    "import tensorflow as tf\n",
    "import numpy as np\n",
    "from matplotlib import pyplot as plt\n",
    "import random\n",
    "from PIL import Image, ImageDraw"
   ]
  },
  {
   "cell_type": "markdown",
   "id": "2bbc220a-8b02-43f1-9f01-7cddf13de9e3",
   "metadata": {},
   "source": [
    "Create the model by starting with a trained, topless VGG16, flattening the outputs as they'll be 2D tensors, and the final dense layer with four outputs and sigmoid activation.\n",
    "\n",
    "VGG16 inputs are usually images of shape 224x224 pixels but to make things a bit faster, we're going to use images of 100x100 pixels."
   ]
  },
  {
   "cell_type": "code",
   "execution_count": 47,
   "id": "60811c9e-cd5e-4685-8e6e-a8eb6ccd6633",
   "metadata": {},
   "outputs": [],
   "source": [
    "IMAGE_DIM = 100"
   ]
  },
  {
   "cell_type": "markdown",
   "id": "ee9b89e0-7560-407a-bc9f-4bbce0169645",
   "metadata": {},
   "source": [
    "We want to make sure we don't try and train the Conv2D layers as it'll take too long so that part of the model is marked as untrainable.\n",
    "\n",
    "It's then compiled with binary crossentropy as the loss function and the Adam optimizer."
   ]
  },
  {
   "cell_type": "code",
   "execution_count": 48,
   "id": "cb6809d7-0e99-4a9f-aac2-52a37fa67ac0",
   "metadata": {},
   "outputs": [
    {
     "name": "stdout",
     "output_type": "stream",
     "text": [
      "Model: \"Localization_Model\"\n",
      "_________________________________________________________________\n",
      " Layer (type)                Output Shape              Param #   \n",
      "=================================================================\n",
      " input_6 (InputLayer)        [(None, 100, 100, 3)]     0         \n",
      "                                                                 \n",
      " block1_conv1 (Conv2D)       (None, 100, 100, 64)      1792      \n",
      "                                                                 \n",
      " block1_conv2 (Conv2D)       (None, 100, 100, 64)      36928     \n",
      "                                                                 \n",
      " block1_pool (MaxPooling2D)  (None, 50, 50, 64)        0         \n",
      "                                                                 \n",
      " block2_conv1 (Conv2D)       (None, 50, 50, 128)       73856     \n",
      "                                                                 \n",
      " block2_conv2 (Conv2D)       (None, 50, 50, 128)       147584    \n",
      "                                                                 \n",
      " block2_pool (MaxPooling2D)  (None, 25, 25, 128)       0         \n",
      "                                                                 \n",
      " block3_conv1 (Conv2D)       (None, 25, 25, 256)       295168    \n",
      "                                                                 \n",
      " block3_conv2 (Conv2D)       (None, 25, 25, 256)       590080    \n",
      "                                                                 \n",
      " block3_conv3 (Conv2D)       (None, 25, 25, 256)       590080    \n",
      "                                                                 \n",
      " block3_pool (MaxPooling2D)  (None, 12, 12, 256)       0         \n",
      "                                                                 \n",
      " block4_conv1 (Conv2D)       (None, 12, 12, 512)       1180160   \n",
      "                                                                 \n",
      " block4_conv2 (Conv2D)       (None, 12, 12, 512)       2359808   \n",
      "                                                                 \n",
      " block4_conv3 (Conv2D)       (None, 12, 12, 512)       2359808   \n",
      "                                                                 \n",
      " block4_pool (MaxPooling2D)  (None, 6, 6, 512)         0         \n",
      "                                                                 \n",
      " block5_conv1 (Conv2D)       (None, 6, 6, 512)         2359808   \n",
      "                                                                 \n",
      " block5_conv2 (Conv2D)       (None, 6, 6, 512)         2359808   \n",
      "                                                                 \n",
      " block5_conv3 (Conv2D)       (None, 6, 6, 512)         2359808   \n",
      "                                                                 \n",
      " block5_pool (MaxPooling2D)  (None, 3, 3, 512)         0         \n",
      "                                                                 \n",
      " flatten_5 (Flatten)         (None, 4608)              0         \n",
      "                                                                 \n",
      " dense_5 (Dense)             (None, 4)                 18436     \n",
      "                                                                 \n",
      "=================================================================\n",
      "Total params: 14,733,124\n",
      "Trainable params: 18,436\n",
      "Non-trainable params: 14,714,688\n",
      "_________________________________________________________________\n"
     ]
    }
   ],
   "source": [
    "# create the model\n",
    "vgg16 = tf.keras.applications.vgg16.VGG16(\n",
    "    input_shape=(IMAGE_DIM, IMAGE_DIM, 3), \n",
    "    include_top=False, \n",
    "    weights='imagenet'\n",
    ")\n",
    "\n",
    "# we don't want to train the VGG16 model\n",
    "vgg16.trainable = False\n",
    "\n",
    "# create the dense layer\n",
    "x = tf.keras.layers.Flatten()(vgg16.output)\n",
    "x = tf.keras.layers.Dense(4, activation=\"sigmoid\")(x)\n",
    "\n",
    "# and build and compile it\n",
    "model = tf.keras.Model(vgg16.input, x, name=\"Localization_Model\")\n",
    "model.compile(loss='binary_crossentropy', optimizer='adam', metrics=['accuracy'])\n",
    "model.summary()"
   ]
  },
  {
   "cell_type": "markdown",
   "id": "44647a7b-40b1-4ff8-88f1-1325d64a5ff5",
   "metadata": {},
   "source": [
    "You can see from the summary above that nearly all of the weights are untrainable but the final flatten and dense layer weights are."
   ]
  },
  {
   "cell_type": "markdown",
   "id": "43756776-cb78-44da-8fc4-d37d92e57f41",
   "metadata": {},
   "source": [
    "Next we create a generator for the training images. It works by creating them at random on the fly. For this I created class derived from [tf.keras.utils.Sequence](https://www.tensorflow.org/api_docs/python/tf/keras/utils/Sequence).\n",
    "\n",
    "Note that while the sigmoid function is good with values of x from -5 to 5 (and probably beyond). In this case we'll use the range 0..1."
   ]
  },
  {
   "cell_type": "code",
   "execution_count": 49,
   "id": "7bf7f70c-5c95-4512-b1b1-16612e6ce34e",
   "metadata": {},
   "outputs": [],
   "source": [
    "class LocalizationSequence(tf.keras.utils.Sequence):\n",
    "    def __init__(self, batch_size):\n",
    "        self.batch_size = batch_size\n",
    "        \n",
    "    def preprocess_y_value(self, y):\n",
    "        \"\"\"\n",
    "        Sets the range of y to 0..1.\n",
    "        \"\"\"\n",
    "        return y / IMAGE_DIM\n",
    "        \n",
    "        \n",
    "    def generate_image(self):\n",
    "        \"\"\"\n",
    "        Generates a random image with a black background and a single white\n",
    "        rectangle inside it. \n",
    "        \"\"\"\n",
    "        img = np.zeros((IMAGE_DIM, IMAGE_DIM, 3))\n",
    "        block_top = random.randint(1, IMAGE_DIM - 2)\n",
    "        block_left = random.randint(1, IMAGE_DIM - 2)\n",
    "        block_width = random.randint(1, IMAGE_DIM - 1 - block_left)\n",
    "        block_height = random.randint(1, IMAGE_DIM - 1 - block_top)\n",
    "        \n",
    "        for row in range(block_top, block_top + block_height):\n",
    "            for col in range(block_left, block_left + block_width):\n",
    "                img[row][col] = [1., 1., 1.]\n",
    "        \n",
    "        return img, self.preprocess_y_value(\n",
    "            np.array([block_top, block_left, block_height, block_width])\n",
    "        )\n",
    "        \n",
    "        \n",
    "    def __len__(self):\n",
    "        \"\"\"\n",
    "        We generate the images on the fly so just return the batch size.\n",
    "        \"\"\"\n",
    "        return self.batch_size\n",
    "    \n",
    "    \n",
    "    def __getitem__(self, idx):\n",
    "        \"\"\"\n",
    "        Return a batch of images preprepared for training. I.e. colour ranges\n",
    "        are 0..1 and not 0..255.\n",
    "        \"\"\"\n",
    "        batch_x = np.empty(\n",
    "            [self.batch_size, IMAGE_DIM, IMAGE_DIM, 3], \n",
    "            dtype=np.float32\n",
    "        )\n",
    "        \n",
    "        batch_y = np.empty([self.batch_size, 4], dtype=np.float32)\n",
    "        \n",
    "        for i in range(self.batch_size):\n",
    "            batch_x[i], batch_y[i] = self.generate_image()\n",
    "            \n",
    "        return batch_x, batch_y\n",
    "            "
   ]
  },
  {
   "cell_type": "markdown",
   "id": "c0fddc2e-266d-48d1-a403-13293cae73d9",
   "metadata": {},
   "source": [
    "Test out the LocalizationSequence by creating a batch of images. It doesn't matter what value is passed as the index parameter of `LocalizationSequence.__getitem__(idx)` as it'll generate a random batch every time."
   ]
  },
  {
   "cell_type": "code",
   "execution_count": 50,
   "id": "b05515a2-60cc-4b18-ad93-17dbe79caabf",
   "metadata": {},
   "outputs": [],
   "source": [
    "seq = LocalizationSequence(batch_size=32)\n",
    "batch_x, batch_y = seq.__getitem__(0)"
   ]
  },
  {
   "cell_type": "markdown",
   "id": "27131d1f-eb19-42d7-882f-3e5b4a667cf9",
   "metadata": {},
   "source": [
    "Now we can draw them out and see what we generated."
   ]
  },
  {
   "cell_type": "code",
   "execution_count": 51,
   "id": "da2b564b-dd62-42fe-a4fe-b6953eedb31c",
   "metadata": {},
   "outputs": [
    {
     "data": {
      "image/png": "[encoded data removed]",
      "text/plain": [
       "<Figure size 1000x1000 with 32 Axes>"
      ]
     },
     "metadata": {},
     "output_type": "display_data"
    }
   ],
   "source": [
    "plt.rcParams[\"figure.figsize\"] = (10, 10)\n",
    "for i in range(min(50, seq.__len__())):\n",
    "    ax = plt.subplot(10, 5, i + 1)\n",
    "    ax.set_axis_off()\n",
    "    ax.imshow(batch_x[i])\n",
    "    \n",
    "plt.show()"
   ]
  },
  {
   "cell_type": "markdown",
   "id": "206ea5b2-da05-4780-b1c7-240cec63c737",
   "metadata": {},
   "source": [
    "Next we train the model using the LocalizationSequence object."
   ]
  },
  {
   "cell_type": "code",
   "execution_count": 52,
   "id": "004b896b-d1e8-448e-9c9f-c7db3530632a",
   "metadata": {},
   "outputs": [
    {
     "name": "stdout",
     "output_type": "stream",
     "text": [
      "Epoch 1/8\n",
      "32/32 [==============================] - 35s 1s/step - loss: 0.5730 - accuracy: 0.6699\n",
      "Epoch 2/8\n",
      "32/32 [==============================] - 36s 1s/step - loss: 0.5057 - accuracy: 0.8906\n",
      "Epoch 3/8\n",
      "32/32 [==============================] - 37s 1s/step - loss: 0.4984 - accuracy: 0.9082\n",
      "Epoch 4/8\n",
      "32/32 [==============================] - 37s 1s/step - loss: 0.4916 - accuracy: 0.9160\n",
      "Epoch 5/8\n",
      "32/32 [==============================] - 37s 1s/step - loss: 0.4889 - accuracy: 0.9414\n",
      "Epoch 6/8\n",
      "32/32 [==============================] - 39s 1s/step - loss: 0.4881 - accuracy: 0.9209\n",
      "Epoch 7/8\n",
      "32/32 [==============================] - 41s 1s/step - loss: 0.4873 - accuracy: 0.9297\n",
      "Epoch 8/8\n",
      "32/32 [==============================] - 42s 1s/step - loss: 0.4876 - accuracy: 0.9473\n"
     ]
    }
   ],
   "source": [
    "history = model.fit(seq, epochs=8)"
   ]
  },
  {
   "cell_type": "markdown",
   "id": "008dd5bf-cdc0-4be3-b9f6-bba8af481ce0",
   "metadata": {},
   "source": [
    "Plot the accuracy from the `model.fit()`."
   ]
  },
  {
   "cell_type": "code",
   "execution_count": 53,
   "id": "41d92f03-7853-48eb-b31d-9cf8d160b5a8",
   "metadata": {},
   "outputs": [
    {
     "data": {
      "image/png": "[encoded data removed]",
      "text/plain": [
       "<Figure size 500x500 with 1 Axes>"
      ]
     },
     "metadata": {},
     "output_type": "display_data"
    }
   ],
   "source": [
    "plt.rcParams[\"figure.figsize\"] = (5, 5)\n",
    "plt.plot(history.history['accuracy'])\n",
    "plt.title('Accuracy')\n",
    "plt.show()"
   ]
  },
  {
   "cell_type": "markdown",
   "id": "0ed3262d-23ad-4feb-84d9-d874d48475e4",
   "metadata": {},
   "source": [
    "Training can take some time so save out the model so it can be loaded from disk in future."
   ]
  },
  {
   "cell_type": "code",
   "execution_count": 54,
   "id": "8bc366b5-1899-4e80-a5f5-2d5f48a94864",
   "metadata": {},
   "outputs": [],
   "source": [
    "model.save('saved-models/localization-1.h5', overwrite=True)"
   ]
  },
  {
   "cell_type": "markdown",
   "id": "aea4d788-ce7f-40d1-a4cd-cd22cdd51bdb",
   "metadata": {},
   "source": [
    "The `to_pil_rect()` function takes the y outputs from the model and converts the values into the correct coordinates for the input."
   ]
  },
  {
   "cell_type": "code",
   "execution_count": 55,
   "id": "9f98a371-7111-4493-87fb-1c0425b0a05e",
   "metadata": {},
   "outputs": [],
   "source": [
    "def to_pil_rect(y):\n",
    "    rv = y * IMAGE_DIM\n",
    "    rv = np.clip(rv, 1, IMAGE_DIM)\n",
    "    [top, left, height, width] = rv\n",
    "    height += top\n",
    "    width += left\n",
    "    rv[2] = height\n",
    "    rv[3] = width\n",
    "    return rv"
   ]
  },
  {
   "cell_type": "markdown",
   "id": "11c9c23a-fbde-47e7-8e68-d5a5914b6f34",
   "metadata": {},
   "source": [
    "The sequence object can be used to create a set of images we can use for prediction."
   ]
  },
  {
   "cell_type": "code",
   "execution_count": 63,
   "id": "43533941-e0a2-416d-a536-d53dda8e05b2",
   "metadata": {},
   "outputs": [
    {
     "name": "stdout",
     "output_type": "stream",
     "text": [
      "Generated data for predictions: (32, 100, 100, 3)\n"
     ]
    }
   ],
   "source": [
    "x, y = seq.__getitem__(0)\n",
    "print(f'Generated data for predictions: {x.shape}')"
   ]
  },
  {
   "cell_type": "markdown",
   "id": "d7593776-67fa-4942-bb56-dcc743d3f70c",
   "metadata": {},
   "source": [
    "As you can see, we've created a batch of 32 test images."
   ]
  },
  {
   "cell_type": "code",
   "execution_count": 64,
   "id": "d60e6d39-70ee-48c6-afd2-f1774f520164",
   "metadata": {},
   "outputs": [
    {
     "data": {
      "text/plain": [
       "(32, 100, 100, 3)"
      ]
     },
     "execution_count": 64,
     "metadata": {},
     "output_type": "execute_result"
    }
   ],
   "source": [
    "x.shape"
   ]
  },
  {
   "cell_type": "markdown",
   "id": "59809e75-e04f-4fbb-a7bf-bb4526eef056",
   "metadata": {},
   "source": [
    "Use the trained model to make some predictions from the new batch."
   ]
  },
  {
   "cell_type": "code",
   "execution_count": 65,
   "id": "7877eec2-29af-4af1-984e-7ff067458227",
   "metadata": {},
   "outputs": [
    {
     "name": "stdout",
     "output_type": "stream",
     "text": [
      "1/1 [==============================] - 1s 1s/step\n"
     ]
    }
   ],
   "source": [
    "y_predicted = model.predict(x)"
   ]
  },
  {
   "cell_type": "markdown",
   "id": "ccc52ed7-7b48-4faf-b4dc-2e66f1c45759",
   "metadata": {},
   "source": [
    "Create the boxes for both the actual boxes and the predicted ones."
   ]
  },
  {
   "cell_type": "code",
   "execution_count": 66,
   "id": "5e5ccc27-b0a7-447f-9b70-bb9dc1d497bb",
   "metadata": {},
   "outputs": [],
   "source": [
    "predicted_boxes = np.zeros((seq.batch_size, 4))\n",
    "actual_boxes = np.zeros((seq.batch_size, 4))\n",
    "\n",
    "for i, pred in enumerate(y_predicted):\n",
    "    predicted_boxes[i] = to_pil_rect(pred)\n",
    "    actual_boxes[i] = to_pil_rect(y[i])"
   ]
  },
  {
   "cell_type": "markdown",
   "id": "92b4f8f8-434c-4e5a-85aa-a4281dca5e5d",
   "metadata": {},
   "source": [
    "Convert the numpy array into a PIL image so we can work with it as an image."
   ]
  },
  {
   "cell_type": "code",
   "execution_count": 67,
   "id": "7781385d-541a-4fb9-9959-69760389c353",
   "metadata": {},
   "outputs": [],
   "source": [
    "def add_bounding_boxes():\n",
    "    rv = np.zeros((seq.batch_size, IMAGE_DIM, IMAGE_DIM, 3), dtype=np.uint8)\n",
    "    for i in range(seq.batch_size):\n",
    "        im = Image.fromarray(np.uint8(x[i] * 255), mode='RGB')\n",
    "\n",
    "        draw = ImageDraw.Draw(im)\n",
    "\n",
    "        draw.rectangle(\n",
    "            [actual_boxes[i][1], \n",
    "             actual_boxes[i][0], \n",
    "             actual_boxes[i][3], \n",
    "             actual_boxes[i][2]], outline='yellow')\n",
    "\n",
    "        draw.rectangle(\n",
    "            [predicted_boxes[i][1], \n",
    "             predicted_boxes[i][0], \n",
    "             predicted_boxes[i][3], \n",
    "             predicted_boxes[i][2]], outline='green')\n",
    "        \n",
    "        rv[i] = np.array(im).astype(dtype=np.uint8)\n",
    "\n",
    "    return rv"
   ]
  },
  {
   "cell_type": "code",
   "execution_count": 68,
   "id": "a90d8a91-7eb2-4a8f-adbc-22f610bf9440",
   "metadata": {},
   "outputs": [],
   "source": [
    "final_images = add_bounding_boxes()"
   ]
  },
  {
   "cell_type": "markdown",
   "id": "5a22406e-7abd-4380-8fb7-da9139c2905f",
   "metadata": {},
   "source": [
    "Now we can draw some of the images that were used to create the predictions and overlay the localization rectangles on top of them. You can see that the accuracy isn't brilliant but it's not too bad considering it's a very simple dense network and the feature extraction part of the VGG model probably isn't designed for images this simple. In future experiments, this will change to something more interesting."
   ]
  },
  {
   "cell_type": "code",
   "execution_count": 69,
   "id": "56d88dec-dc20-4218-8493-7be02ba37092",
   "metadata": {},
   "outputs": [
    {
     "data": {
      "image/png": "[encoded data removed]",
      "text/plain": [
       "<Figure size 1000x1000 with 9 Axes>"
      ]
     },
     "metadata": {},
     "output_type": "display_data"
    }
   ],
   "source": [
    "plt.rcParams[\"figure.figsize\"] = (10,10)\n",
    "for i in range(9):\n",
    "    ax = plt.subplot(3, 3, i + 1)\n",
    "    im_idx = random.randint(0, seq.batch_size - 1)\n",
    "    ax.imshow(final_images[im_idx])\n",
    "    ax.set_axis_off()\n",
    "    ax.set_title(f'Image {im_idx}')"
   ]
  },
  {
   "cell_type": "markdown",
   "id": "343b891c-1710-4d61-b7b2-9536822e2cd6",
   "metadata": {},
   "source": [
    "In the output above you can see the green boxes that are the results of the predictions and the yellow boxes that use the same maths to reverse the sigmoid function and validate that that maths is correct."
   ]
  }
 ],
 "metadata": {
  "kernelspec": {
   "display_name": "Python 3 (ipykernel)",
   "language": "python",
   "name": "python3"
  },
  "language_info": {
   "codemirror_mode": {
    "name": "ipython",
    "version": 3
   },
   "file_extension": ".py",
   "mimetype": "text/x-python",
   "name": "python",
   "nbconvert_exporter": "python",
   "pygments_lexer": "ipython3",
   "version": "3.9.13"
  }
 },
 "nbformat": 4,
 "nbformat_minor": 5
}
