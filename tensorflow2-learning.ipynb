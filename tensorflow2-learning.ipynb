{
 "cells": [
  {
   "cell_type": "markdown",
   "id": "63d114eb",
   "metadata": {},
   "source": [
    "# Tensorflow 2 Learning\n",
    "This is my first Jupyter Notebook where I can experiment with the development environment and hopefully learn a bit of Tensorflow2 at the same time!"
   ]
  },
  {
   "cell_type": "code",
   "execution_count": 672,
   "id": "797e9d59",
   "metadata": {},
   "outputs": [],
   "source": [
    "import tensorflow as tf\n",
    "import numpy as np\n",
    "import matplotlib.pyplot as plt"
   ]
  },
  {
   "cell_type": "markdown",
   "id": "4fcdc0eb",
   "metadata": {},
   "source": [
    "Create a tensor using some random data. Note that the `tf.placeholder()` function has been removed fromo TF2 unless you're willing to mess about with TF1 compatibility."
   ]
  },
  {
   "cell_type": "code",
   "execution_count": 673,
   "id": "9b74e357",
   "metadata": {},
   "outputs": [
    {
     "name": "stdout",
     "output_type": "stream",
     "text": [
      "tf.Tensor(\n",
      "[[0.03303744 0.93262285 0.24207798 0.77854306 0.34117654]\n",
      " [0.22895883 0.96450007 0.0450967  0.22284345 0.09692388]\n",
      " [0.3433291  0.00888974 0.9552447  0.24521711 0.52518773]\n",
      " [0.33904248 0.24344616 0.67537636 0.9962974  0.84358543]\n",
      " [0.5749882  0.78393745 0.7197737  0.00718119 0.2783812 ]], shape=(5, 5), dtype=float32)\n"
     ]
    }
   ],
   "source": [
    "a = np.random.rand(5, 5)\n",
    "A = tf.constant(a, shape=(5, 5), dtype=tf.float32)\n",
    "print(A)"
   ]
  },
  {
   "cell_type": "markdown",
   "id": "ad41e671",
   "metadata": {},
   "source": [
    "Now create a scalar that we can use for a multiplication."
   ]
  },
  {
   "cell_type": "code",
   "execution_count": 674,
   "id": "d73e765c",
   "metadata": {},
   "outputs": [
    {
     "name": "stdout",
     "output_type": "stream",
     "text": [
      "tf.Tensor(2.0, shape=(), dtype=float32)\n"
     ]
    }
   ],
   "source": [
    "s = tf.constant(2, dtype=tf.float32)\n",
    "print(s)"
   ]
  },
  {
   "cell_type": "markdown",
   "id": "a2c8741d",
   "metadata": {},
   "source": [
    "You can multiply a tensor with a vector using the * operator."
   ]
  },
  {
   "cell_type": "code",
   "execution_count": 675,
   "id": "a3daeee7",
   "metadata": {},
   "outputs": [
    {
     "data": {
      "text/plain": [
       "<tf.Tensor: shape=(5, 5), dtype=float32, numpy=\n",
       "array([[0.06607489, 1.8652457 , 0.48415595, 1.5570861 , 0.6823531 ],\n",
       "       [0.45791766, 1.9290001 , 0.0901934 , 0.4456869 , 0.19384776],\n",
       "       [0.6866582 , 0.01777948, 1.9104894 , 0.49043423, 1.0503755 ],\n",
       "       [0.67808497, 0.4868923 , 1.3507527 , 1.9925948 , 1.6871709 ],\n",
       "       [1.1499764 , 1.5678749 , 1.4395474 , 0.01436239, 0.5567624 ]],\n",
       "      dtype=float32)>"
      ]
     },
     "execution_count": 675,
     "metadata": {},
     "output_type": "execute_result"
    }
   ],
   "source": [
    "A * s"
   ]
  },
  {
   "cell_type": "markdown",
   "id": "84210a64",
   "metadata": {},
   "source": [
    "Or you can use the rf.math functions. The tf.math functions obviously include a load of other things that aren't available as Python mathematical operations."
   ]
  },
  {
   "cell_type": "code",
   "execution_count": 676,
   "id": "eec57ba5",
   "metadata": {},
   "outputs": [
    {
     "data": {
      "text/plain": [
       "<tf.Tensor: shape=(5, 5), dtype=float32, numpy=\n",
       "array([[0.06607489, 1.8652457 , 0.48415595, 1.5570861 , 0.6823531 ],\n",
       "       [0.45791766, 1.9290001 , 0.0901934 , 0.4456869 , 0.19384776],\n",
       "       [0.6866582 , 0.01777948, 1.9104894 , 0.49043423, 1.0503755 ],\n",
       "       [0.67808497, 0.4868923 , 1.3507527 , 1.9925948 , 1.6871709 ],\n",
       "       [1.1499764 , 1.5678749 , 1.4395474 , 0.01436239, 0.5567624 ]],\n",
       "      dtype=float32)>"
      ]
     },
     "execution_count": 676,
     "metadata": {},
     "output_type": "execute_result"
    }
   ],
   "source": [
    "tf.math.multiply(A, s)"
   ]
  },
  {
   "cell_type": "markdown",
   "id": "b1997e66",
   "metadata": {},
   "source": [
    "We can also create a vector to multiply using `matmul()`."
   ]
  },
  {
   "cell_type": "code",
   "execution_count": 677,
   "id": "7832cc41",
   "metadata": {},
   "outputs": [],
   "source": [
    "v = np.array([[2],[1],[2],[1],[2]])\n",
    "V = tf.constant(v, dtype=tf.float32)"
   ]
  },
  {
   "cell_type": "markdown",
   "id": "10b2d175",
   "metadata": {},
   "source": [
    "The `tf.math.multiply()` function behaves differently from matrix multiplication. Look at the values for rows 2 and 4 below and compare them to the scalar multiplication. The vector V has just been applied to every column."
   ]
  },
  {
   "cell_type": "code",
   "execution_count": 678,
   "id": "66202a0b",
   "metadata": {},
   "outputs": [
    {
     "data": {
      "text/plain": [
       "<tf.Tensor: shape=(5, 5), dtype=float32, numpy=\n",
       "array([[0.06607489, 1.8652457 , 0.48415595, 1.5570861 , 0.6823531 ],\n",
       "       [0.22895883, 0.96450007, 0.0450967 , 0.22284345, 0.09692388],\n",
       "       [0.6866582 , 0.01777948, 1.9104894 , 0.49043423, 1.0503755 ],\n",
       "       [0.33904248, 0.24344616, 0.67537636, 0.9962974 , 0.84358543],\n",
       "       [1.1499764 , 1.5678749 , 1.4395474 , 0.01436239, 0.5567624 ]],\n",
       "      dtype=float32)>"
      ]
     },
     "execution_count": 678,
     "metadata": {},
     "output_type": "execute_result"
    }
   ],
   "source": [
    "tf.math.multiply(A, V)"
   ]
  },
  {
   "cell_type": "markdown",
   "id": "68e18d20",
   "metadata": {},
   "source": [
    "As opposed to below where we are using a matrix multiplication. Here the output tensor is a 1D array of values."
   ]
  },
  {
   "cell_type": "code",
   "execution_count": 679,
   "id": "29a8a7bd",
   "metadata": {},
   "outputs": [
    {
     "data": {
      "text/plain": [
       "<tf.Tensor: shape=(5, 1), dtype=float32, numpy=\n",
       "array([[2.9437497],\n",
       "       [1.9293023],\n",
       "       [3.90163  ],\n",
       "       [4.955752 ],\n",
       "       [3.9374049]], dtype=float32)>"
      ]
     },
     "execution_count": 679,
     "metadata": {},
     "output_type": "execute_result"
    }
   ],
   "source": [
    "tf.linalg.matmul(A, V)"
   ]
  },
  {
   "cell_type": "markdown",
   "id": "ecc40363",
   "metadata": {},
   "source": [
    "The vector V and scalar s we created above are both immutable. To create something that can be manipulated inside a training loop and stored / loaded with the model, we can use the `tf.Variable` class."
   ]
  },
  {
   "cell_type": "code",
   "execution_count": 680,
   "id": "704d9e26",
   "metadata": {},
   "outputs": [
    {
     "name": "stdout",
     "output_type": "stream",
     "text": [
      "<tf.Variable 'Variable:0' shape=() dtype=float32, numpy=2.0>\n",
      "<tf.Variable 'Variable:0' shape=(5, 1) dtype=int64, numpy=\n",
      "array([[2],\n",
      "       [1],\n",
      "       [2],\n",
      "       [1],\n",
      "       [2]])>\n",
      "<tf.Variable 'Variable:0' shape=() dtype=float32, numpy=3.0>\n",
      "<tf.Variable 'Variable:0' shape=(5, 1) dtype=int64, numpy=\n",
      "array([[3],\n",
      "       [1],\n",
      "       [2],\n",
      "       [1],\n",
      "       [2]])>\n"
     ]
    }
   ],
   "source": [
    "# initialise the variables\n",
    "s = tf.Variable(2.)\n",
    "V = tf.Variable(v)\n",
    "\n",
    "print(s)\n",
    "print(V)\n",
    "\n",
    "# manipulate the variables\n",
    "s.assign(3)\n",
    "V[0].assign([3])\n",
    "\n",
    "print(s)\n",
    "print(V)"
   ]
  },
  {
   "cell_type": "markdown",
   "id": "6289fc0f",
   "metadata": {},
   "source": [
    "## Experimenting With Cost and Gradient Descent\n",
    "This has all changed since TF1 and again, I'm not interested in working in V1 compatibility mode as I'll jest end up learning information that is already out of date.\n",
    "\n",
    "What we're going to do is create a tf.Variable and minimise it by gradient descent."
   ]
  },
  {
   "cell_type": "code",
   "execution_count": 681,
   "id": "3fe96406",
   "metadata": {},
   "outputs": [],
   "source": [
    "# w is our scalar 'weight'\n",
    "w = tf.Variable(20.)"
   ]
  },
  {
   "cell_type": "markdown",
   "id": "e435f008",
   "metadata": {},
   "source": [
    "The loss function calculates the error which is normally given by $loss = {1\\over2}(\\hat{y} - y)^2$. In this case we are trying to optimize towards 0 which would be $loss = {1\\over2}(w - 0)^2$ and simplifies to $loss={1\\over2} w^2$."
   ]
  },
  {
   "cell_type": "code",
   "execution_count": 682,
   "id": "1f3e2b45",
   "metadata": {},
   "outputs": [],
   "source": [
    "# create some lists to hold the history data from the training.\n",
    "loss_history = []\n",
    "weight_history = []\n",
    "\n",
    "# loss = lambda: (w ** 2)/2.0\n",
    "def loss():\n",
    "    \"\"\"\n",
    "    Calculate and return the loss and log all the changes in the history lists.\n",
    "    \"\"\"\n",
    "    l = (w ** 2)/2.0\n",
    "    loss_history.append(l.numpy())\n",
    "    weight_history.append(w.numpy())\n",
    "    return l"
   ]
  },
  {
   "cell_type": "markdown",
   "id": "aa3f2837",
   "metadata": {},
   "source": [
    "Create the optimizer function which will be a Stochastic Gradient Descent with a learning rate of 0.1."
   ]
  },
  {
   "cell_type": "code",
   "execution_count": 683,
   "id": "90934e81",
   "metadata": {},
   "outputs": [],
   "source": [
    "opt = tf.keras.optimizers.SGD(learning_rate=0.1)"
   ]
  },
  {
   "cell_type": "markdown",
   "id": "9fb357fa",
   "metadata": {},
   "source": [
    "Now run the custom training loop by running the optimizer minimize method. "
   ]
  },
  {
   "cell_type": "code",
   "execution_count": 684,
   "id": "e347c23d",
   "metadata": {},
   "outputs": [],
   "source": [
    "for step in range(40):\n",
    "    step_count = opt.minimize(loss, [w]).numpy()\n",
    "    # print(f\"STEP: {step_count} W: {w.numpy():.4f}\")"
   ]
  },
  {
   "cell_type": "markdown",
   "id": "715e532e",
   "metadata": {},
   "source": [
    "Print out the loss and weight history so we can see it all worked."
   ]
  },
  {
   "cell_type": "code",
   "execution_count": 685,
   "id": "2028984d",
   "metadata": {},
   "outputs": [
    {
     "name": "stdout",
     "output_type": "stream",
     "text": [
      "[200.0, 162.0, 131.22002, 106.288216, 86.09345, 69.7357, 56.485924, 45.753593, 37.060413, 30.018934, 24.315338, 19.695423, 15.953293, 12.922169, 10.466956, 8.478235, 6.867371, 5.562571, 4.5056825, 3.649603, 2.9561784, 2.3945045, 1.9395486, 1.5710343, 1.2725377, 1.0307556, 0.8349121, 0.6762788, 0.5477858, 0.4437065, 0.3594023, 0.29111585, 0.23580381, 0.1910011, 0.1547109, 0.12531583, 0.10150582, 0.08221971, 0.06659797, 0.05394436] \n",
      "\n",
      "[20.0, 18.0, 16.2, 14.580001, 13.122001, 11.809801, 10.628821, 9.565939, 8.609345, 7.7484107, 6.97357, 6.2762127, 5.6485915, 5.0837326, 4.5753593, 4.1178236, 3.7060413, 3.3354373, 3.0018935, 2.7017043, 2.4315338, 2.1883805, 1.9695424, 1.7725881, 1.5953293, 1.4357964, 1.2922168, 1.1629951, 1.0466956, 0.942026, 0.84782344, 0.7630411, 0.68673694, 0.6180633, 0.55625695, 0.5006313, 0.45056814, 0.40551132, 0.3649602, 0.32846418]\n"
     ]
    }
   ],
   "source": [
    "print(loss_history, '\\n')\n",
    "print(weight_history)"
   ]
  },
  {
   "cell_type": "markdown",
   "id": "9789b30d",
   "metadata": {},
   "source": [
    "Plot the weight and loss change so we can see the progress of the training."
   ]
  },
  {
   "cell_type": "code",
   "execution_count": 686,
   "id": "91e2ecdc",
   "metadata": {},
   "outputs": [
    {
     "data": {
      "image/png": "[encoded data removed]",
      "text/plain": [
       "<Figure size 640x480 with 2 Axes>"
      ]
     },
     "metadata": {},
     "output_type": "display_data"
    }
   ],
   "source": [
    "loss_plt = plt.subplot(1, 2, 1)\n",
    "loss_plt.plot(loss_history)\n",
    "weight_plt = plt.subplot(1, 2, 2)\n",
    "weight_plt.plot(weight_history)\n",
    "plt.show()"
   ]
  },
  {
   "cell_type": "markdown",
   "id": "5beb067a",
   "metadata": {},
   "source": [
    "## Optimizing With L-BFGS\n",
    "In this section we'll integrate a SciPy optimizer that works well for style transfer using pure TF2. Being able to integrate SciPy optimizers is probably a really good thing to be able to do! \n",
    "\n",
    "SciPy documentation can be found at [https://docs.scipy.org](https://docs.scipy.org/) and the specific docs relating to optimizers can be found [here](https://docs.scipy.org/doc/scipy/reference/optimize.html).\n",
    "\n",
    "The framework for this code came from [Stack Overflow](https://stackoverflow.com/a/60443339/10868745) so credit to [A Roebel](https://stackoverflow.com/users/3932675/a-roebel)"
   ]
  },
  {
   "cell_type": "code",
   "execution_count": 687,
   "id": "08e3bb74",
   "metadata": {},
   "outputs": [],
   "source": [
    "import scipy.optimize as sopt"
   ]
  },
  {
   "cell_type": "markdown",
   "id": "fbd310d0",
   "metadata": {},
   "source": [
    "Reset the w variable so it's back to the beginning again."
   ]
  },
  {
   "cell_type": "code",
   "execution_count": 688,
   "id": "ef7ae73b",
   "metadata": {},
   "outputs": [],
   "source": [
    "w = tf.Variable(20.)"
   ]
  },
  {
   "cell_type": "code",
   "execution_count": 689,
   "id": "832781a5",
   "metadata": {},
   "outputs": [],
   "source": [
    "def calculate_loss(x):\n",
    "    print(f'Calculating loss for {x}')\n",
    "    return tf.reduce_sum(tf.square(x-tf.constant(2, dtype=tf.float32)))"
   ]
  },
  {
   "cell_type": "code",
   "execution_count": 690,
   "id": "276ef5f1",
   "metadata": {},
   "outputs": [],
   "source": [
    "@tf.function\n",
    "def val_and_grad(x):\n",
    "    with tf.GradientTape() as tape:\n",
    "        tape.watch(x)\n",
    "        loss = calculate_loss(x)\n",
    "        print(f'loss: {loss}')\n",
    "    grad = tape.gradient(loss, x)\n",
    "    return loss, grad"
   ]
  },
  {
   "cell_type": "code",
   "execution_count": 691,
   "id": "cb3b7193",
   "metadata": {},
   "outputs": [],
   "source": [
    "def func(x):\n",
    "    print(f'Inside func(x) with x: {x}')\n",
    "    w.assign(x[0])\n",
    "    return [vv.numpy().astype(np.float64) for vv in val_and_grad(tf.constant(x, dtype=tf.float32))]"
   ]
  },
  {
   "cell_type": "code",
   "execution_count": 692,
   "id": "200ba775",
   "metadata": {},
   "outputs": [
    {
     "name": "stdout",
     "output_type": "stream",
     "text": [
      "Inside func(x) with x: [20.]\n",
      "Calculating loss for Tensor(\"x:0\", shape=(1,), dtype=float32)\n",
      "loss: Tensor(\"Sum:0\", shape=(), dtype=float32)\n",
      "Inside func(x) with x: [19.]\n",
      "Inside func(x) with x: [15.]\n",
      "Inside func(x) with x: [2.]\n",
      "\n",
      "info:\n",
      "       fun: 0.0\n",
      " hess_inv: <1x1 LbfgsInvHessProduct with dtype=float64>\n",
      "      jac: array([0.])\n",
      "  message: 'CONVERGENCE: NORM_OF_PROJECTED_GRADIENT_<=_PGTOL'\n",
      "     nfev: 4\n",
      "      nit: 2\n",
      "     njev: 4\n",
      "   status: 0\n",
      "  success: True\n",
      "        x: array([2.])\n",
      "weight w: 2.0\n"
     ]
    }
   ],
   "source": [
    "resdd = sopt.minimize(fun=func, x0=np.array(w), jac=True, method='L-BFGS-B')\n",
    "\n",
    "print(\"\\ninfo:\\n\", resdd)\n",
    "print(f\"weight w: {w.numpy()}\")"
   ]
  },
  {
   "cell_type": "code",
   "execution_count": null,
   "id": "70bdb93f",
   "metadata": {},
   "outputs": [],
   "source": []
  }
 ],
 "metadata": {
  "kernelspec": {
   "display_name": "Python 3 (ipykernel)",
   "language": "python",
   "name": "python3"
  },
  "language_info": {
   "codemirror_mode": {
    "name": "ipython",
    "version": 3
   },
   "file_extension": ".py",
   "mimetype": "text/x-python",
   "name": "python",
   "nbconvert_exporter": "python",
   "pygments_lexer": "ipython3",
   "version": "3.9.13"
  }
 },
 "nbformat": 4,
 "nbformat_minor": 5
}
