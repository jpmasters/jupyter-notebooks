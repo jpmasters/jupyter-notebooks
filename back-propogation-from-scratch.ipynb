{
 "cells": [
  {
   "cell_type": "markdown",
   "id": "f195fbaa-ea01-4085-b3e1-288cba1666c5",
   "metadata": {},
   "source": [
    "## Back Propagation from Scratch\n",
    "These are my learning notes from looking at the process of back propagation in ANNs and learning how this works mathematically."
   ]
  },
  {
   "cell_type": "markdown",
   "id": "be89162e-3d3b-4b43-b859-82cd04be34c5",
   "metadata": {},
   "source": [
    "![3D Cube With Measurements](assets/images/cube.png)\n",
    "\n",
    "\n",
    "I thought I'd start with something simple. So imagine a simple 3-dimensional object whose volume is represented by the equation $vol = w.h.l$ where $w$ is width, $h$ is height and $l$ is length. In this structure length and height are unknown and we want to find length and height by measuring the change of volume with respect to changes in width. We should then be able to using a training process to discover the values for height and length."
   ]
  },
  {
   "cell_type": "code",
   "execution_count": 37,
   "id": "c97c2b55-4d16-4ebd-b5b8-637c5dbe6e59",
   "metadata": {},
   "outputs": [],
   "source": [
    "import numpy as np\n",
    "import matplotlib.pyplot as plt\n",
    "import random"
   ]
  },
  {
   "cell_type": "markdown",
   "id": "88880f7f-b363-4f25-87dd-d6e126aaaafc",
   "metadata": {},
   "source": [
    "Let's start by defining the height and length which are the values we're going to see if we can derive by using the chain rule and back propagation."
   ]
  },
  {
   "cell_type": "code",
   "execution_count": 38,
   "id": "4b5bb8ad-7163-4670-9d0a-953919e86f03",
   "metadata": {},
   "outputs": [],
   "source": [
    "ACTUAL_HEIGHT = 20\n",
    "ACTUAL_LENGTH = 60"
   ]
  },
  {
   "cell_type": "markdown",
   "id": "74311d31-b694-4f3a-b24e-8058250c9954",
   "metadata": {},
   "source": [
    "The next thing we need to do is to create some training data."
   ]
  },
  {
   "cell_type": "code",
   "execution_count": 39,
   "id": "4cfc46af-11a6-4301-8f76-ac9e2a334c73",
   "metadata": {},
   "outputs": [],
   "source": [
    "width_train = np.arange(start=0, stop=100, step=1)\n",
    "volume_train = np.array([w * ACTUAL_HEIGHT * ACTUAL_LENGTH for w in width_train])"
   ]
  },
  {
   "cell_type": "markdown",
   "id": "6b35be71-261e-42f9-9727-62e24682c136",
   "metadata": {},
   "source": [
    "Plot volume with respect to width so we can visualise it. "
   ]
  },
  {
   "cell_type": "code",
   "execution_count": 40,
   "id": "733c3d72-3bba-4552-9321-e13c2bea6a12",
   "metadata": {},
   "outputs": [
    {
     "data": {
      "image/png": "[encoded data removed]",
      "text/plain": [
       "<Figure size 640x480 with 1 Axes>"
      ]
     },
     "metadata": {},
     "output_type": "display_data"
    }
   ],
   "source": [
    "plt.scatter(width_train, volume_train)\n",
    "plt.title('Volume with respect to width')\n",
    "plt.show()"
   ]
  },
  {
   "cell_type": "code",
   "execution_count": 41,
   "id": "1bc96c35-2779-4fdc-8af3-de518fafda1b",
   "metadata": {},
   "outputs": [
    {
     "name": "stdout",
     "output_type": "stream",
     "text": [
      "Starting height: 12 Starting length: 7\n"
     ]
    }
   ],
   "source": [
    "calculated_height = random.randint(0, 100)\n",
    "calculated_length = random.randint(0, 100)\n",
    "print(f'Starting height: {calculated_height} Starting length: {calculated_length}')"
   ]
  },
  {
   "cell_type": "markdown",
   "id": "1f8c866a-c0c3-4367-9d79-d0989af902d1",
   "metadata": {},
   "source": [
    "## The Chain Rule\n",
    "The chain rule in differentiation is the mechanism by which complex curves can be differentated by multiplying together the various components. The equation for the chain rule is: \n",
    "\n",
    "$${dy\\over{dx}} = {dy\\over{du}}{du\\over{dx}}$$"
   ]
  },
  {
   "cell_type": "markdown",
   "id": "18b13d0b-0c85-4af6-9313-e399ea0c7b4e",
   "metadata": {},
   "source": [
    "## Back propagation\n",
    "In the process of back propagation, we use the chain rule to calculate the gradient of the loss function with respect to each weight, one layer at a time.\n",
    "\n",
    "$${dl\\over{dw_{1}}} = {dl\\over{dw_{2}}}{dw_{2}\\over{dw_{1}}}$$\n",
    "\n",
    "In our example, we have 2 'weights', one represents the height and the other represents the length. "
   ]
  },
  {
   "cell_type": "code",
   "execution_count": 42,
   "id": "1b5407a6-e256-4946-8fa4-4252386fe228",
   "metadata": {},
   "outputs": [],
   "source": [
    "def calculate_loss(predicted, actual):\n",
    "    \"\"\"\n",
    "    Returns the Mean Square Error loss of the predicted vs actual values.\n",
    "    \n",
    "    \"\"\"\n",
    "    errors = predicted - actual\n",
    "    mse = (1. / np.size(predicted)) * np.sum(np.square(errors))\n",
    "    grad = np.mean(errors * 2)\n",
    "    return mse, grad"
   ]
  },
  {
   "cell_type": "code",
   "execution_count": 43,
   "id": "d031b3d1-4799-4fe6-ae54-ce08b969b183",
   "metadata": {},
   "outputs": [
    {
     "name": "stdout",
     "output_type": "stream",
     "text": [
      "[     0   1200   2400   3600   4800   6000   7200   8400   9600  10800\n",
      "  12000  13200  14400  15600  16800  18000  19200  20400  21600  22800\n",
      "  24000  25200  26400  27600  28800  30000  31200  32400  33600  34800\n",
      "  36000  37200  38400  39600  40800  42000  43200  44400  45600  46800\n",
      "  48000  49200  50400  51600  52800  54000  55200  56400  57600  58800\n",
      "  60000  61200  62400  63600  64800  66000  67200  68400  69600  70800\n",
      "  72000  73200  74400  75600  76800  78000  79200  80400  81600  82800\n",
      "  84000  85200  86400  87600  88800  90000  91200  92400  93600  94800\n",
      "  96000  97200  98400  99600 100800 102000 103200 104400 105600 106800\n",
      " 108000 109200 110400 111600 112800 114000 115200 116400 117600 118800]\n"
     ]
    }
   ],
   "source": [
    "a = np.array([i * ACTUAL_HEIGHT * ACTUAL_LENGTH for i in range(100)])\n",
    "print(a)"
   ]
  },
  {
   "cell_type": "code",
   "execution_count": 44,
   "id": "27aa8597-d2c7-45e1-af09-79eb82948f8c",
   "metadata": {},
   "outputs": [
    {
     "name": "stdout",
     "output_type": "stream",
     "text": [
      "[   0   84  168  252  336  420  504  588  672  756  840  924 1008 1092\n",
      " 1176 1260 1344 1428 1512 1596 1680 1764 1848 1932 2016 2100 2184 2268\n",
      " 2352 2436 2520 2604 2688 2772 2856 2940 3024 3108 3192 3276 3360 3444\n",
      " 3528 3612 3696 3780 3864 3948 4032 4116 4200 4284 4368 4452 4536 4620\n",
      " 4704 4788 4872 4956 5040 5124 5208 5292 5376 5460 5544 5628 5712 5796\n",
      " 5880 5964 6048 6132 6216 6300 6384 6468 6552 6636 6720 6804 6888 6972\n",
      " 7056 7140 7224 7308 7392 7476 7560 7644 7728 7812 7896 7980 8064 8148\n",
      " 8232 8316]\n"
     ]
    }
   ],
   "source": [
    "p = np.array([i * calculated_height * calculated_length for i in range(100)])\n",
    "print(p)"
   ]
  },
  {
   "cell_type": "code",
   "execution_count": 45,
   "id": "7ce39cc6-4a45-406c-9c63-3bc43bfbaed1",
   "metadata": {},
   "outputs": [
    {
     "name": "stdout",
     "output_type": "stream",
     "text": [
      "4089454776.0\n",
      "-110484.0\n"
     ]
    }
   ],
   "source": [
    "cost, grad = calculate_loss(p, a)\n",
    "print(cost)\n",
    "print(grad)"
   ]
  },
  {
   "cell_type": "code",
   "execution_count": null,
   "id": "059d94b7-95ce-4375-be7b-7ca75b45b518",
   "metadata": {},
   "outputs": [],
   "source": []
  }
 ],
 "metadata": {
  "kernelspec": {
   "display_name": "Python 3 (ipykernel)",
   "language": "python",
   "name": "python3"
  },
  "language_info": {
   "codemirror_mode": {
    "name": "ipython",
    "version": 3
   },
   "file_extension": ".py",
   "mimetype": "text/x-python",
   "name": "python",
   "nbconvert_exporter": "python",
   "pygments_lexer": "ipython3",
   "version": "3.9.13"
  }
 },
 "nbformat": 4,
 "nbformat_minor": 5
}
