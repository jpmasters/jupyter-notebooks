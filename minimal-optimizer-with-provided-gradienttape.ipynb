{
 "cells": [
  {
   "cell_type": "code",
   "execution_count": 80,
   "id": "3ea6b2a7",
   "metadata": {},
   "outputs": [],
   "source": [
    "import tensorflow as tf\n",
    "import numpy as np\n",
    "import matplotlib.pyplot as plt"
   ]
  },
  {
   "cell_type": "markdown",
   "id": "c3cd6e37",
   "metadata": {},
   "source": [
    "a holds the value we want to train."
   ]
  },
  {
   "cell_type": "code",
   "execution_count": 81,
   "id": "4cd01090",
   "metadata": {},
   "outputs": [],
   "source": [
    "a = tf.Variable(10., trainable=True)"
   ]
  },
  {
   "cell_type": "markdown",
   "id": "7acd095e",
   "metadata": {},
   "source": [
    "y is our target value."
   ]
  },
  {
   "cell_type": "code",
   "execution_count": 82,
   "id": "8657a0a6",
   "metadata": {},
   "outputs": [],
   "source": [
    "y = tf.constant(0.)"
   ]
  },
  {
   "cell_type": "markdown",
   "id": "52c7ca78",
   "metadata": {},
   "source": [
    "Create a Stochastic Gradient Descent optimizer."
   ]
  },
  {
   "cell_type": "code",
   "execution_count": 83,
   "id": "ba349abc",
   "metadata": {},
   "outputs": [],
   "source": [
    "opt = tf.keras.optimizers.SGD(learning_rate=0.01)"
   ]
  },
  {
   "cell_type": "markdown",
   "id": "a9d88a5d",
   "metadata": {},
   "source": [
    "Run a training loop."
   ]
  },
  {
   "cell_type": "code",
   "execution_count": 84,
   "id": "47bafeda",
   "metadata": {},
   "outputs": [],
   "source": [
    "# holds the number of training steps\n",
    "steps = 500\n",
    "\n",
    "# holds the history of the trained value so we can plot it\n",
    "a_history = np.zeros(steps, dtype=np.float32)\n",
    "\n",
    "# this is the training loop\n",
    "for i in range(steps):\n",
    "    with tf.GradientTape() as tape:\n",
    "        \n",
    "        # calculate the loss inside the active gradient tape\n",
    "        loss = tf.math.squared_difference(a, y)\n",
    "        \n",
    "        # store the value\n",
    "        a_history[i] = a.numpy()\n",
    "\n",
    "    # use the optimizer to minimise the loss\n",
    "    opt.minimize(loss, [a], tape=tape)\n",
    "    "
   ]
  },
  {
   "cell_type": "markdown",
   "id": "61422123",
   "metadata": {},
   "source": [
    "Now plot the graph of changing $a$ values."
   ]
  },
  {
   "cell_type": "code",
   "execution_count": 85,
   "id": "ed58907b",
   "metadata": {},
   "outputs": [
    {
     "data": {
      "image/png": "[encoded data removed]",
      "text/plain": [
       "<Figure size 640x480 with 1 Axes>"
      ]
     },
     "metadata": {},
     "output_type": "display_data"
    }
   ],
   "source": [
    "plt.plot(a_history)\n",
    "plt.title(f'Final result: {a.numpy():.02f}')\n",
    "plt.show()"
   ]
  },
  {
   "cell_type": "code",
   "execution_count": null,
   "id": "4ed729b6",
   "metadata": {},
   "outputs": [],
   "source": []
  }
 ],
 "metadata": {
  "kernelspec": {
   "display_name": "Python 3 (ipykernel)",
   "language": "python",
   "name": "python3"
  },
  "language_info": {
   "codemirror_mode": {
    "name": "ipython",
    "version": 3
   },
   "file_extension": ".py",
   "mimetype": "text/x-python",
   "name": "python",
   "nbconvert_exporter": "python",
   "pygments_lexer": "ipython3",
   "version": "3.9.13"
  }
 },
 "nbformat": 4,
 "nbformat_minor": 5
}
